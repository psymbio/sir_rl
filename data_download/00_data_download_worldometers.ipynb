{
 "cells": [
  {
   "cell_type": "markdown",
   "id": "74d8eda0",
   "metadata": {},
   "source": [
    "1. https://www.reddit.com/r/webscraping/comments/s190f2/web_scraping_from_httpswebarchiveorg_wayback/\n",
    "2. https://github.com/internetarchive/wayback/tree/master/wayback-cdx-server"
   ]
  },
  {
   "cell_type": "markdown",
   "id": "e6c759ee",
   "metadata": {},
   "source": [
    "https://web.archive.org/cdx/search/cdx?url=https://www.worldometers.info/coronavirus/&matchType=prefix&output=json&limit=1000&from=202003&to=202004"
   ]
  },
  {
   "cell_type": "markdown",
   "id": "3db132c9",
   "metadata": {},
   "source": [
    "https://web.archive.org/web/20200303105820/https://www.worldometers.info/coronavirus/"
   ]
  },
  {
   "cell_type": "raw",
   "id": "e17b2500",
   "metadata": {},
   "source": [
    "pip install --upgrade beautifulsoup4"
   ]
  },
  {
   "cell_type": "code",
   "execution_count": null,
   "id": "76c66c64",
   "metadata": {},
   "outputs": [],
   "source": [
    "20200429, 20200602, 20200603, 20200604, 20200605, 20200216, 20200229"
   ]
  },
  {
   "cell_type": "code",
   "execution_count": 1,
   "id": "8632da57",
   "metadata": {},
   "outputs": [],
   "source": [
    "import requests\n",
    "from datetime import date, timedelta\n",
    "import time\n",
    "import os\n",
    "import pandas as pd\n",
    "from bs4 import BeautifulSoup\n",
    "from random import randrange\n",
    "import re"
   ]
  },
  {
   "cell_type": "code",
   "execution_count": 2,
   "id": "7a0c7a82",
   "metadata": {},
   "outputs": [],
   "source": [
    "headers = {\"User-Agent\": \"'User-agent': 'Mozilla/5.0'\",}\n",
    "\n",
    "def return_middle_timestamp(df):\n",
    "    df = df.loc[(df['mimetype'] == \"text/html\")]\n",
    "    # middle_index = len(df) // 2\n",
    "    # middle_row = df.iloc[middle_index]\n",
    "    # timestamp = middle_row['timestamp']\n",
    "\n",
    "    random_index = randrange(len(df))\n",
    "    random_row = df.iloc[random_index]\n",
    "    timestamp = random_row['timestamp']\n",
    "    return timestamp"
   ]
  },
  {
   "cell_type": "code",
   "execution_count": 3,
   "id": "e6aa093e",
   "metadata": {
    "scrolled": true
   },
   "outputs": [],
   "source": [
    "start_date = date(2020, 2, 29)\n",
    "date_str = start_date.strftime(\"%Y%m%d\")\n",
    "internet_archive_url = \"https://web.archive.org/cdx/search/cdx?url=https://www.worldometers.info/coronavirus/&matchType=prefix&output=json&from=\" + date_str + \"&to=\" + date_str\n",
    "r = requests.get(internet_archive_url, headers=headers)\n",
    "internet_archive_content = eval(r.content.decode(\"utf-8\"))\n",
    "internet_archive_df = pd.DataFrame(internet_archive_content[1:], columns=internet_archive_content[0])\n",
    "timestamp = return_middle_timestamp(internet_archive_df)"
   ]
  },
  {
   "cell_type": "code",
   "execution_count": 4,
   "id": "4a7a48d8",
   "metadata": {},
   "outputs": [
    {
     "name": "stdout",
     "output_type": "stream",
     "text": [
      "https://web.archive.org/web/20200229115207/https://www.worldometers.info/coronavirus/\n",
      "0 <class 'bs4.element.ResultSet'> https://web.archive.org/web/20200229115207/https://www.worldometers.info/coronavirus/\n"
     ]
    },
    {
     "ename": "IndexError",
     "evalue": "list index out of range",
     "output_type": "error",
     "traceback": [
      "\u001b[0;31m---------------------------------------------------------------------------\u001b[0m",
      "\u001b[0;31mIndexError\u001b[0m                                Traceback (most recent call last)",
      "Input \u001b[0;32mIn [4]\u001b[0m, in \u001b[0;36m<cell line: 8>\u001b[0;34m()\u001b[0m\n\u001b[1;32m      6\u001b[0m table \u001b[38;5;241m=\u001b[39m soup\u001b[38;5;241m.\u001b[39mfind_all(\u001b[38;5;124m\"\u001b[39m\u001b[38;5;124mtable\u001b[39m\u001b[38;5;124m\"\u001b[39m, \u001b[38;5;28mid\u001b[39m\u001b[38;5;241m=\u001b[39m\u001b[38;5;124m\"\u001b[39m\u001b[38;5;124mmain_table_countries_today\u001b[39m\u001b[38;5;124m\"\u001b[39m)\n\u001b[1;32m      7\u001b[0m \u001b[38;5;28mprint\u001b[39m(\u001b[38;5;28mlen\u001b[39m(table), \u001b[38;5;28mtype\u001b[39m(table), worldometers_url)\n\u001b[0;32m----> 8\u001b[0m worldometer_df \u001b[38;5;241m=\u001b[39m pd\u001b[38;5;241m.\u001b[39mread_html(\u001b[38;5;28mstr\u001b[39m(\u001b[43mtable\u001b[49m\u001b[43m[\u001b[49m\u001b[38;5;241;43m0\u001b[39;49m\u001b[43m]\u001b[49m), displayed_only\u001b[38;5;241m=\u001b[39m\u001b[38;5;28;01mFalse\u001b[39;00m)\n",
      "\u001b[0;31mIndexError\u001b[0m: list index out of range"
     ]
    }
   ],
   "source": [
    "# before\n",
    "worldometers_url = \"https://web.archive.org/web/\"+ timestamp + \"/https://www.worldometers.info/coronavirus/\"\n",
    "print(worldometers_url)\n",
    "r = requests.get(worldometers_url, headers=headers)\n",
    "soup = BeautifulSoup(r.content, 'lxml')\n",
    "table = soup.find_all(\"table\", id=\"main_table_countries_today\")\n",
    "print(len(table), type(table), worldometers_url)\n",
    "worldometer_df = pd.read_html(str(table[0]), displayed_only=False)\n",
    "\n",
    "# after\n",
    "# timestamp = \"20200216030215\"\n",
    "# worldometers_url = \"https://web.archive.org/web/\"+ timestamp + \"/https://www.worldometers.info/coronavirus/\"\n",
    "# print(worldometers_url)\n",
    "# r = requests.get(worldometers_url, headers=headers)\n",
    "# soup = BeautifulSoup(r.content, 'lxml')\n",
    "# table = soup.find_all(\"table\", id=\"table3\")\n",
    "# print(len(table), type(table), worldometers_url)\n",
    "# worldometer_df = pd.read_html(str(table[0]), displayed_only=False)"
   ]
  },
  {
   "cell_type": "code",
   "execution_count": null,
   "id": "6b083cf0",
   "metadata": {},
   "outputs": [],
   "source": []
  },
  {
   "cell_type": "code",
   "execution_count": null,
   "id": "39f9ea06",
   "metadata": {},
   "outputs": [],
   "source": [
    "str(table[0])"
   ]
  },
  {
   "cell_type": "code",
   "execution_count": null,
   "id": "d2b974b4",
   "metadata": {
    "scrolled": true
   },
   "outputs": [],
   "source": [
    "worldometer_df[0]"
   ]
  },
  {
   "cell_type": "code",
   "execution_count": null,
   "id": "1d509d23",
   "metadata": {},
   "outputs": [],
   "source": [
    "path = os.path.join(\"..\", \"data_cache\", \"worldometer_2\", date_str + \".csv\")\n",
    "worldometer_df[0].to_csv(path, index=False)\n",
    "print(\"saving: \", path)"
   ]
  },
  {
   "cell_type": "code",
   "execution_count": null,
   "id": "b0de6c64",
   "metadata": {},
   "outputs": [],
   "source": [
    "df_loaded = pd.read_csv(path)\n",
    "df_loaded"
   ]
  },
  {
   "cell_type": "code",
   "execution_count": null,
   "id": "4466999a",
   "metadata": {},
   "outputs": [],
   "source": [
    "print(path)"
   ]
  },
  {
   "cell_type": "code",
   "execution_count": null,
   "id": "8fac0e73",
   "metadata": {},
   "outputs": [],
   "source": []
  }
 ],
 "metadata": {
  "kernelspec": {
   "display_name": "Python 3 (ipykernel)",
   "language": "python",
   "name": "python3"
  },
  "language_info": {
   "codemirror_mode": {
    "name": "ipython",
    "version": 3
   },
   "file_extension": ".py",
   "mimetype": "text/x-python",
   "name": "python",
   "nbconvert_exporter": "python",
   "pygments_lexer": "ipython3",
   "version": "3.8.10"
  }
 },
 "nbformat": 4,
 "nbformat_minor": 5
}
