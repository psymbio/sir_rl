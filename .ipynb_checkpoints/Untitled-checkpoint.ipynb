{
 "cells": [
  {
   "cell_type": "code",
   "execution_count": 1,
   "id": "4b1220ae",
   "metadata": {},
   "outputs": [],
   "source": [
    "import numpy as np\n",
    "from scipy.integrate import odeint\n",
    "from scipy.optimize import minimize\n",
    "from scipy.stats import poisson\n",
    "import matplotlib.pyplot as plt\n",
    "import pandas as pd\n",
    "import os\n",
    "import seaborn as sns\n",
    "import json\n",
    "np.random.seed(seed=0)\n",
    "plt.rcParams['text.usetex'] = True\n",
    "plt.rcParams.update({'font.size': 16})\n",
    "# plt.rcParams[\"font.family\"] = \"Times New Roman\"\n",
    "# sns.set_style(\"whitegrid\", rc={'font.family': 'Times New Roman', 'font.size': 16})\n",
    "sns.set_style(\"whitegrid\", rc={'font.size': 16})\n",
    "\n",
    "from constants import LOCATION_CHOOSEN, OUTPUT_DIR, DATA_CACHE_DIR, OPTIMAL_VALUES_FILE, STRINGENCY_BASED_GDP"
   ]
  },
  {
   "cell_type": "code",
   "execution_count": 2,
   "id": "dba06023",
   "metadata": {},
   "outputs": [
    {
     "name": "stderr",
     "output_type": "stream",
     "text": [
      "/tmp/ipykernel_109765/1277220552.py:3: DtypeWarning: Columns (43) have mixed types. Specify dtype option on import or set low_memory=False.\n",
      "  df = pd.read_csv(\"input/1.csv\")\n"
     ]
    },
    {
     "name": "stdout",
     "output_type": "stream",
     "text": [
      "Index(['id', 'date', 'confirmed', 'deaths', 'recovered', 'tests', 'vaccines',\n",
      "       'people_vaccinated', 'people_fully_vaccinated', 'hosp', 'icu', 'vent',\n",
      "       'school_closing', 'workplace_closing', 'cancel_events',\n",
      "       'gatherings_restrictions', 'transport_closing',\n",
      "       'stay_home_restrictions', 'internal_movement_restrictions',\n",
      "       'international_movement_restrictions', 'information_campaigns',\n",
      "       'testing_policy', 'contact_tracing', 'facial_coverings',\n",
      "       'vaccination_policy', 'elderly_people_protection',\n",
      "       'government_response_index', 'stringency_index',\n",
      "       'containment_health_index', 'economic_support_index',\n",
      "       'administrative_area_level', 'administrative_area_level_1',\n",
      "       'administrative_area_level_2', 'administrative_area_level_3',\n",
      "       'latitude', 'longitude', 'population', 'iso_alpha_3', 'iso_alpha_2',\n",
      "       'iso_numeric', 'iso_currency', 'key_local', 'key_google_mobility',\n",
      "       'key_apple_mobility', 'key_jhu_csse', 'key_nuts', 'key_gadm'],\n",
      "      dtype='object')\n"
     ]
    }
   ],
   "source": [
    "# https://covid19datahub.io/articles/data.html\n",
    "\n",
    "df = pd.read_csv(\"input/1.csv\")\n",
    "print(df.columns)"
   ]
  },
  {
   "cell_type": "code",
   "execution_count": 3,
   "id": "bbde7a36",
   "metadata": {},
   "outputs": [
    {
     "data": {
      "text/plain": [
       "array([nan, 'COL', 'PER', 'SGP', 'MDA', 'PRT', 'LTU', 'SVN', 'ROU', 'PCN',\n",
       "       'NLD', 'THA', 'BMU', 'STP', 'CUW', 'CYM', 'NIC', 'COM', 'ABW',\n",
       "       'DZA', 'EST', 'OMN', 'TKL', 'GGY', 'BGR', 'CHL', 'JEY', 'LIE',\n",
       "       'LVA', 'DEU', 'BTN', 'FSM', 'GUY', 'AZE', 'NRU', 'PSE', 'TCA',\n",
       "       'JOR', 'GEO', 'SUR', 'RKS', 'MNE', 'KAZ', 'SAU', 'COG', 'BEN',\n",
       "       'DMA', 'COK', 'BIH', 'MLT', 'SLB', 'MCO', 'BHR', 'PLW', 'SLV',\n",
       "       'GNQ', 'WLF', 'BOL', 'LBY', 'CIV', 'LBR', 'IRQ', 'MSR', 'ZWE',\n",
       "       'LAO', 'LCA', 'GAB', 'MNG', 'LKA', 'VUT', 'BES', 'TTO', 'FRO',\n",
       "       'SMR', 'SHN', 'IMN', 'ATG', 'LBN', 'MHL', 'GIB', 'MEX', 'VGB',\n",
       "       'ARE', 'FLK', 'KIR', 'KNA', 'ISL', 'ERI', 'TUR', 'NOR', 'VAT',\n",
       "       'UKR', 'HUN', 'GRL', 'VEN', 'CPV', 'TZA', 'LSO', 'GRD', 'BRA',\n",
       "       'ASM', 'GUM', 'MNP', 'PRI', 'BLR', 'SWE', 'SVK', 'TUV', 'NIU',\n",
       "       'DNK', 'GMB', 'ECU', 'SDN', 'KEN', 'LUX', 'SXM', 'TON', 'NZL',\n",
       "       'AIA', 'SYC', 'MAC', 'WSM', 'SYR', 'AUT', 'PNG', 'PYF', 'FJI',\n",
       "       'CYP', 'VCT', 'ISR', 'CHE', 'JPN', 'NCL', 'VIR', 'QAT', 'BWA',\n",
       "       'MAR', 'PAN', 'HND', 'PRY', 'BHS', 'GTM', 'BLZ', 'MKD', 'EGY',\n",
       "       'MLI', 'KOR', 'MDV', 'PHL', 'HTI', 'ESP', 'SRB', 'SWZ', 'ETH',\n",
       "       'COD', 'UGA', 'TWN', 'BEL', 'TUN', 'GBR', 'RWA', 'BRN', 'FRA',\n",
       "       'REU', 'GLP', 'MTQ', 'VNM', 'MYT', 'GUF', 'MOZ', 'GHA', 'ZMB',\n",
       "       'BFA', 'SOM', 'URY', 'FIN', 'SLE', 'MDG', 'NER', 'MUS', 'HKG',\n",
       "       'TCD', 'KGZ', 'CUB', 'CAF', 'SEN', 'RUS', 'JAM', 'TKM', 'TJK',\n",
       "       'AUS', 'DJI', 'UZB', 'ZAF', 'SSD', 'AND', 'GNB', 'GIN', 'MWI',\n",
       "       'ALB', 'ARM', 'MMR', 'CMR', 'BGD', 'POL', 'BDI', 'MRT', 'TGO',\n",
       "       'NAM', 'NGA', 'AGO', 'PAK', 'NPL', 'IDN', 'TLS', 'CRI', 'BRB',\n",
       "       'HRV', 'AFG', 'YEM', 'KWT', 'IRN', 'CHN', 'IND', 'KHM', 'DOM',\n",
       "       'USA', 'CAN', 'ITA', 'IRL', 'ARG', 'CZE', 'GRC', 'MYS'],\n",
       "      dtype=object)"
      ]
     },
     "execution_count": 3,
     "metadata": {},
     "output_type": "execute_result"
    }
   ],
   "source": [
    "df['iso_alpha_3'].unique()"
   ]
  },
  {
   "cell_type": "code",
   "execution_count": 4,
   "id": "34425774",
   "metadata": {},
   "outputs": [
    {
     "data": {
      "text/html": [
       "<div>\n",
       "<style scoped>\n",
       "    .dataframe tbody tr th:only-of-type {\n",
       "        vertical-align: middle;\n",
       "    }\n",
       "\n",
       "    .dataframe tbody tr th {\n",
       "        vertical-align: top;\n",
       "    }\n",
       "\n",
       "    .dataframe thead th {\n",
       "        text-align: right;\n",
       "    }\n",
       "</style>\n",
       "<table border=\"1\" class=\"dataframe\">\n",
       "  <thead>\n",
       "    <tr style=\"text-align: right;\">\n",
       "      <th></th>\n",
       "      <th>id</th>\n",
       "      <th>date</th>\n",
       "      <th>confirmed</th>\n",
       "      <th>deaths</th>\n",
       "      <th>recovered</th>\n",
       "      <th>tests</th>\n",
       "      <th>vaccines</th>\n",
       "      <th>people_vaccinated</th>\n",
       "      <th>people_fully_vaccinated</th>\n",
       "      <th>hosp</th>\n",
       "      <th>...</th>\n",
       "      <th>iso_alpha_3</th>\n",
       "      <th>iso_alpha_2</th>\n",
       "      <th>iso_numeric</th>\n",
       "      <th>iso_currency</th>\n",
       "      <th>key_local</th>\n",
       "      <th>key_google_mobility</th>\n",
       "      <th>key_apple_mobility</th>\n",
       "      <th>key_jhu_csse</th>\n",
       "      <th>key_nuts</th>\n",
       "      <th>key_gadm</th>\n",
       "    </tr>\n",
       "  </thead>\n",
       "  <tbody>\n",
       "    <tr>\n",
       "      <th>265733</th>\n",
       "      <td>c39bfe6c</td>\n",
       "      <td>2020-01-03</td>\n",
       "      <td>NaN</td>\n",
       "      <td>NaN</td>\n",
       "      <td>NaN</td>\n",
       "      <td>NaN</td>\n",
       "      <td>NaN</td>\n",
       "      <td>NaN</td>\n",
       "      <td>NaN</td>\n",
       "      <td>NaN</td>\n",
       "      <td>...</td>\n",
       "      <td>IND</td>\n",
       "      <td>IN</td>\n",
       "      <td>356.0</td>\n",
       "      <td>INR</td>\n",
       "      <td>NaN</td>\n",
       "      <td>ChIJkbeSa_BfYzARphNChaFPjNc</td>\n",
       "      <td>India</td>\n",
       "      <td>IN</td>\n",
       "      <td>NaN</td>\n",
       "      <td>IND</td>\n",
       "    </tr>\n",
       "    <tr>\n",
       "      <th>265734</th>\n",
       "      <td>c39bfe6c</td>\n",
       "      <td>2020-01-04</td>\n",
       "      <td>NaN</td>\n",
       "      <td>NaN</td>\n",
       "      <td>NaN</td>\n",
       "      <td>NaN</td>\n",
       "      <td>NaN</td>\n",
       "      <td>NaN</td>\n",
       "      <td>NaN</td>\n",
       "      <td>NaN</td>\n",
       "      <td>...</td>\n",
       "      <td>IND</td>\n",
       "      <td>IN</td>\n",
       "      <td>356.0</td>\n",
       "      <td>INR</td>\n",
       "      <td>NaN</td>\n",
       "      <td>ChIJkbeSa_BfYzARphNChaFPjNc</td>\n",
       "      <td>India</td>\n",
       "      <td>IN</td>\n",
       "      <td>NaN</td>\n",
       "      <td>IND</td>\n",
       "    </tr>\n",
       "    <tr>\n",
       "      <th>265735</th>\n",
       "      <td>c39bfe6c</td>\n",
       "      <td>2020-01-05</td>\n",
       "      <td>NaN</td>\n",
       "      <td>NaN</td>\n",
       "      <td>NaN</td>\n",
       "      <td>NaN</td>\n",
       "      <td>NaN</td>\n",
       "      <td>NaN</td>\n",
       "      <td>NaN</td>\n",
       "      <td>NaN</td>\n",
       "      <td>...</td>\n",
       "      <td>IND</td>\n",
       "      <td>IN</td>\n",
       "      <td>356.0</td>\n",
       "      <td>INR</td>\n",
       "      <td>NaN</td>\n",
       "      <td>ChIJkbeSa_BfYzARphNChaFPjNc</td>\n",
       "      <td>India</td>\n",
       "      <td>IN</td>\n",
       "      <td>NaN</td>\n",
       "      <td>IND</td>\n",
       "    </tr>\n",
       "    <tr>\n",
       "      <th>265736</th>\n",
       "      <td>c39bfe6c</td>\n",
       "      <td>2020-01-06</td>\n",
       "      <td>NaN</td>\n",
       "      <td>NaN</td>\n",
       "      <td>NaN</td>\n",
       "      <td>NaN</td>\n",
       "      <td>NaN</td>\n",
       "      <td>NaN</td>\n",
       "      <td>NaN</td>\n",
       "      <td>NaN</td>\n",
       "      <td>...</td>\n",
       "      <td>IND</td>\n",
       "      <td>IN</td>\n",
       "      <td>356.0</td>\n",
       "      <td>INR</td>\n",
       "      <td>NaN</td>\n",
       "      <td>ChIJkbeSa_BfYzARphNChaFPjNc</td>\n",
       "      <td>India</td>\n",
       "      <td>IN</td>\n",
       "      <td>NaN</td>\n",
       "      <td>IND</td>\n",
       "    </tr>\n",
       "    <tr>\n",
       "      <th>265737</th>\n",
       "      <td>c39bfe6c</td>\n",
       "      <td>2020-01-07</td>\n",
       "      <td>NaN</td>\n",
       "      <td>NaN</td>\n",
       "      <td>NaN</td>\n",
       "      <td>NaN</td>\n",
       "      <td>NaN</td>\n",
       "      <td>NaN</td>\n",
       "      <td>NaN</td>\n",
       "      <td>NaN</td>\n",
       "      <td>...</td>\n",
       "      <td>IND</td>\n",
       "      <td>IN</td>\n",
       "      <td>356.0</td>\n",
       "      <td>INR</td>\n",
       "      <td>NaN</td>\n",
       "      <td>ChIJkbeSa_BfYzARphNChaFPjNc</td>\n",
       "      <td>India</td>\n",
       "      <td>IN</td>\n",
       "      <td>NaN</td>\n",
       "      <td>IND</td>\n",
       "    </tr>\n",
       "    <tr>\n",
       "      <th>...</th>\n",
       "      <td>...</td>\n",
       "      <td>...</td>\n",
       "      <td>...</td>\n",
       "      <td>...</td>\n",
       "      <td>...</td>\n",
       "      <td>...</td>\n",
       "      <td>...</td>\n",
       "      <td>...</td>\n",
       "      <td>...</td>\n",
       "      <td>...</td>\n",
       "      <td>...</td>\n",
       "      <td>...</td>\n",
       "      <td>...</td>\n",
       "      <td>...</td>\n",
       "      <td>...</td>\n",
       "      <td>...</td>\n",
       "      <td>...</td>\n",
       "      <td>...</td>\n",
       "      <td>...</td>\n",
       "      <td>...</td>\n",
       "      <td>...</td>\n",
       "    </tr>\n",
       "    <tr>\n",
       "      <th>267175</th>\n",
       "      <td>c39bfe6c</td>\n",
       "      <td>2023-12-15</td>\n",
       "      <td>NaN</td>\n",
       "      <td>NaN</td>\n",
       "      <td>NaN</td>\n",
       "      <td>NaN</td>\n",
       "      <td>2.206751e+09</td>\n",
       "      <td>1.027420e+09</td>\n",
       "      <td>951987170.0</td>\n",
       "      <td>NaN</td>\n",
       "      <td>...</td>\n",
       "      <td>IND</td>\n",
       "      <td>IN</td>\n",
       "      <td>356.0</td>\n",
       "      <td>INR</td>\n",
       "      <td>NaN</td>\n",
       "      <td>ChIJkbeSa_BfYzARphNChaFPjNc</td>\n",
       "      <td>India</td>\n",
       "      <td>IN</td>\n",
       "      <td>NaN</td>\n",
       "      <td>IND</td>\n",
       "    </tr>\n",
       "    <tr>\n",
       "      <th>267176</th>\n",
       "      <td>c39bfe6c</td>\n",
       "      <td>2023-12-16</td>\n",
       "      <td>NaN</td>\n",
       "      <td>NaN</td>\n",
       "      <td>NaN</td>\n",
       "      <td>NaN</td>\n",
       "      <td>2.206751e+09</td>\n",
       "      <td>1.027420e+09</td>\n",
       "      <td>951987190.0</td>\n",
       "      <td>NaN</td>\n",
       "      <td>...</td>\n",
       "      <td>IND</td>\n",
       "      <td>IN</td>\n",
       "      <td>356.0</td>\n",
       "      <td>INR</td>\n",
       "      <td>NaN</td>\n",
       "      <td>ChIJkbeSa_BfYzARphNChaFPjNc</td>\n",
       "      <td>India</td>\n",
       "      <td>IN</td>\n",
       "      <td>NaN</td>\n",
       "      <td>IND</td>\n",
       "    </tr>\n",
       "    <tr>\n",
       "      <th>267177</th>\n",
       "      <td>c39bfe6c</td>\n",
       "      <td>2023-12-17</td>\n",
       "      <td>NaN</td>\n",
       "      <td>NaN</td>\n",
       "      <td>NaN</td>\n",
       "      <td>NaN</td>\n",
       "      <td>2.206752e+09</td>\n",
       "      <td>1.027421e+09</td>\n",
       "      <td>951987225.0</td>\n",
       "      <td>NaN</td>\n",
       "      <td>...</td>\n",
       "      <td>IND</td>\n",
       "      <td>IN</td>\n",
       "      <td>356.0</td>\n",
       "      <td>INR</td>\n",
       "      <td>NaN</td>\n",
       "      <td>ChIJkbeSa_BfYzARphNChaFPjNc</td>\n",
       "      <td>India</td>\n",
       "      <td>IN</td>\n",
       "      <td>NaN</td>\n",
       "      <td>IND</td>\n",
       "    </tr>\n",
       "    <tr>\n",
       "      <th>267178</th>\n",
       "      <td>c39bfe6c</td>\n",
       "      <td>2023-12-18</td>\n",
       "      <td>NaN</td>\n",
       "      <td>NaN</td>\n",
       "      <td>NaN</td>\n",
       "      <td>NaN</td>\n",
       "      <td>2.206752e+09</td>\n",
       "      <td>1.027421e+09</td>\n",
       "      <td>951987230.0</td>\n",
       "      <td>NaN</td>\n",
       "      <td>...</td>\n",
       "      <td>IND</td>\n",
       "      <td>IN</td>\n",
       "      <td>356.0</td>\n",
       "      <td>INR</td>\n",
       "      <td>NaN</td>\n",
       "      <td>ChIJkbeSa_BfYzARphNChaFPjNc</td>\n",
       "      <td>India</td>\n",
       "      <td>IN</td>\n",
       "      <td>NaN</td>\n",
       "      <td>IND</td>\n",
       "    </tr>\n",
       "    <tr>\n",
       "      <th>267179</th>\n",
       "      <td>c39bfe6c</td>\n",
       "      <td>2023-12-19</td>\n",
       "      <td>NaN</td>\n",
       "      <td>NaN</td>\n",
       "      <td>NaN</td>\n",
       "      <td>NaN</td>\n",
       "      <td>2.206752e+09</td>\n",
       "      <td>1.027421e+09</td>\n",
       "      <td>951987234.0</td>\n",
       "      <td>NaN</td>\n",
       "      <td>...</td>\n",
       "      <td>IND</td>\n",
       "      <td>IN</td>\n",
       "      <td>356.0</td>\n",
       "      <td>INR</td>\n",
       "      <td>NaN</td>\n",
       "      <td>ChIJkbeSa_BfYzARphNChaFPjNc</td>\n",
       "      <td>India</td>\n",
       "      <td>IN</td>\n",
       "      <td>NaN</td>\n",
       "      <td>IND</td>\n",
       "    </tr>\n",
       "  </tbody>\n",
       "</table>\n",
       "<p>1447 rows × 47 columns</p>\n",
       "</div>"
      ],
      "text/plain": [
       "              id        date  confirmed  deaths  recovered  tests  \\\n",
       "265733  c39bfe6c  2020-01-03        NaN     NaN        NaN    NaN   \n",
       "265734  c39bfe6c  2020-01-04        NaN     NaN        NaN    NaN   \n",
       "265735  c39bfe6c  2020-01-05        NaN     NaN        NaN    NaN   \n",
       "265736  c39bfe6c  2020-01-06        NaN     NaN        NaN    NaN   \n",
       "265737  c39bfe6c  2020-01-07        NaN     NaN        NaN    NaN   \n",
       "...          ...         ...        ...     ...        ...    ...   \n",
       "267175  c39bfe6c  2023-12-15        NaN     NaN        NaN    NaN   \n",
       "267176  c39bfe6c  2023-12-16        NaN     NaN        NaN    NaN   \n",
       "267177  c39bfe6c  2023-12-17        NaN     NaN        NaN    NaN   \n",
       "267178  c39bfe6c  2023-12-18        NaN     NaN        NaN    NaN   \n",
       "267179  c39bfe6c  2023-12-19        NaN     NaN        NaN    NaN   \n",
       "\n",
       "            vaccines  people_vaccinated  people_fully_vaccinated  hosp  ...  \\\n",
       "265733           NaN                NaN                      NaN   NaN  ...   \n",
       "265734           NaN                NaN                      NaN   NaN  ...   \n",
       "265735           NaN                NaN                      NaN   NaN  ...   \n",
       "265736           NaN                NaN                      NaN   NaN  ...   \n",
       "265737           NaN                NaN                      NaN   NaN  ...   \n",
       "...              ...                ...                      ...   ...  ...   \n",
       "267175  2.206751e+09       1.027420e+09              951987170.0   NaN  ...   \n",
       "267176  2.206751e+09       1.027420e+09              951987190.0   NaN  ...   \n",
       "267177  2.206752e+09       1.027421e+09              951987225.0   NaN  ...   \n",
       "267178  2.206752e+09       1.027421e+09              951987230.0   NaN  ...   \n",
       "267179  2.206752e+09       1.027421e+09              951987234.0   NaN  ...   \n",
       "\n",
       "        iso_alpha_3  iso_alpha_2  iso_numeric  iso_currency  key_local  \\\n",
       "265733          IND           IN        356.0           INR        NaN   \n",
       "265734          IND           IN        356.0           INR        NaN   \n",
       "265735          IND           IN        356.0           INR        NaN   \n",
       "265736          IND           IN        356.0           INR        NaN   \n",
       "265737          IND           IN        356.0           INR        NaN   \n",
       "...             ...          ...          ...           ...        ...   \n",
       "267175          IND           IN        356.0           INR        NaN   \n",
       "267176          IND           IN        356.0           INR        NaN   \n",
       "267177          IND           IN        356.0           INR        NaN   \n",
       "267178          IND           IN        356.0           INR        NaN   \n",
       "267179          IND           IN        356.0           INR        NaN   \n",
       "\n",
       "                key_google_mobility  key_apple_mobility  key_jhu_csse  \\\n",
       "265733  ChIJkbeSa_BfYzARphNChaFPjNc               India            IN   \n",
       "265734  ChIJkbeSa_BfYzARphNChaFPjNc               India            IN   \n",
       "265735  ChIJkbeSa_BfYzARphNChaFPjNc               India            IN   \n",
       "265736  ChIJkbeSa_BfYzARphNChaFPjNc               India            IN   \n",
       "265737  ChIJkbeSa_BfYzARphNChaFPjNc               India            IN   \n",
       "...                             ...                 ...           ...   \n",
       "267175  ChIJkbeSa_BfYzARphNChaFPjNc               India            IN   \n",
       "267176  ChIJkbeSa_BfYzARphNChaFPjNc               India            IN   \n",
       "267177  ChIJkbeSa_BfYzARphNChaFPjNc               India            IN   \n",
       "267178  ChIJkbeSa_BfYzARphNChaFPjNc               India            IN   \n",
       "267179  ChIJkbeSa_BfYzARphNChaFPjNc               India            IN   \n",
       "\n",
       "        key_nuts  key_gadm  \n",
       "265733       NaN       IND  \n",
       "265734       NaN       IND  \n",
       "265735       NaN       IND  \n",
       "265736       NaN       IND  \n",
       "265737       NaN       IND  \n",
       "...          ...       ...  \n",
       "267175       NaN       IND  \n",
       "267176       NaN       IND  \n",
       "267177       NaN       IND  \n",
       "267178       NaN       IND  \n",
       "267179       NaN       IND  \n",
       "\n",
       "[1447 rows x 47 columns]"
      ]
     },
     "execution_count": 4,
     "metadata": {},
     "output_type": "execute_result"
    }
   ],
   "source": [
    "df = df.loc[(df[\"iso_alpha_3\"] == LOCATION_CHOOSEN)]\n",
    "df"
   ]
  },
  {
   "cell_type": "code",
   "execution_count": 5,
   "id": "7070557f",
   "metadata": {},
   "outputs": [
    {
     "data": {
      "text/plain": [
       "[<matplotlib.lines.Line2D at 0x7fb663ca7ac0>]"
      ]
     },
     "execution_count": 5,
     "metadata": {},
     "output_type": "execute_result"
    },
    {
     "data": {
      "image/png": "[encoded data removed]",
      "text/plain": [
       "<Figure size 432x288 with 1 Axes>"
      ]
     },
     "metadata": {
      "needs_background": "light"
     },
     "output_type": "display_data"
    }
   ],
   "source": [
    "plt.plot(df['confirmed'])"
   ]
  },
  {
   "cell_type": "code",
   "execution_count": 6,
   "id": "0d755b90",
   "metadata": {},
   "outputs": [
    {
     "data": {
      "text/plain": [
       "[<matplotlib.lines.Line2D at 0x7fb662ffdb20>]"
      ]
     },
     "execution_count": 6,
     "metadata": {},
     "output_type": "execute_result"
    },
    {
     "data": {
      "image/png": "[encoded data removed]",
      "text/plain": [
       "<Figure size 432x288 with 1 Axes>"
      ]
     },
     "metadata": {
      "needs_background": "light"
     },
     "output_type": "display_data"
    }
   ],
   "source": [
    "plt.plot(df['population'])"
   ]
  },
  {
   "cell_type": "code",
   "execution_count": 7,
   "id": "a96a1d9f",
   "metadata": {},
   "outputs": [
    {
     "data": {
      "text/plain": [
       "[<matplotlib.lines.Line2D at 0x7fb69c73eac0>]"
      ]
     },
     "execution_count": 7,
     "metadata": {},
     "output_type": "execute_result"
    },
    {
     "data": {
      "image/png": "[encoded data removed]",
      "text/plain": [
       "<Figure size 432x288 with 1 Axes>"
      ]
     },
     "metadata": {
      "needs_background": "light"
     },
     "output_type": "display_data"
    }
   ],
   "source": [
    "plt.plot(df['stringency_index'])"
   ]
  },
  {
   "cell_type": "markdown",
   "id": "bbe0a6df",
   "metadata": {},
   "source": [
    ": Susceptible (= Population - Confirmed)\n",
    "\n",
    ": Infected (=Confirmed - Recovered - Fatal)\n",
    "\n",
    ": Recovered or Fatal (= Recovered + Fatal)"
   ]
  },
  {
   "cell_type": "code",
   "execution_count": 12,
   "id": "6f1f3d41",
   "metadata": {},
   "outputs": [],
   "source": [
    "df['N'] = df['population']\n",
    "df['S'] = df['population'] - df['confirmed'] - df['people_fully_vaccinated']\n",
    "df['I'] = df['confirmed'] - df['recovered'] - df['deaths']\n",
    "df['R'] = df['recovered'] + df['deaths'] + df['people_fully_vaccinated']"
   ]
  },
  {
   "cell_type": "code",
   "execution_count": 13,
   "id": "746d0453",
   "metadata": {},
   "outputs": [],
   "source": [
    "df['date'] = pd.to_datetime(df['date'])"
   ]
  },
  {
   "cell_type": "code",
   "execution_count": 14,
   "id": "bee1e378",
   "metadata": {},
   "outputs": [
    {
     "data": {
      "image/png": "[encoded data removed]",
      "text/plain": [
       "<Figure size 864x576 with 1 Axes>"
      ]
     },
     "metadata": {
      "needs_background": "light"
     },
     "output_type": "display_data"
    }
   ],
   "source": [
    "plt.figure(figsize=(12, 8))\n",
    "plt.plot(df['date'], df['S'], label='S')\n",
    "plt.plot(df['date'], df['I'], label='I')\n",
    "plt.plot(df['date'], df['R'], label='R')\n",
    "plt.title('COVID-19 Metrics Over Time')\n",
    "plt.xlabel('Date')\n",
    "plt.ylabel('Count')\n",
    "plt.legend()\n",
    "plt.grid(True)\n",
    "plt.savefig(os.path.join(OUTPUT_DIR, \"metrics_over_time_\" + LOCATION_CHOOSEN + \".png\"))\n",
    "plt.show()"
   ]
  },
  {
   "cell_type": "code",
   "execution_count": null,
   "id": "28114a5c",
   "metadata": {},
   "outputs": [],
   "source": []
  }
 ],
 "metadata": {
  "kernelspec": {
   "display_name": "Python 3 (ipykernel)",
   "language": "python",
   "name": "python3"
  },
  "language_info": {
   "codemirror_mode": {
    "name": "ipython",
    "version": 3
   },
   "file_extension": ".py",
   "mimetype": "text/x-python",
   "name": "python",
   "nbconvert_exporter": "python",
   "pygments_lexer": "ipython3",
   "version": "3.8.10"
  }
 },
 "nbformat": 4,
 "nbformat_minor": 5
}
