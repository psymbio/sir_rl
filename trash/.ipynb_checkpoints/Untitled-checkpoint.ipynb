{
 "cells": [
  {
   "cell_type": "code",
   "execution_count": null,
   "id": "8b23278d",
   "metadata": {},
   "outputs": [],
   "source": [
    "from statsmodels.tsa.stattools import adfuller\n",
    "from statsmodels.tsa.stattools import grangercausalitytests\n",
    "\n",
    "def augmented_dickey_fuller_test(df, column_name):\n",
    "    print(\"ADF Test for: \", column_name)\n",
    "    result = adfuller(df[column_name])\n",
    "    print(f'Test Statistics: {result[0]}')\n",
    "    print(f'p-value: {result[1]}')\n",
    "    print(f'critical_values: {result[4]}')\n",
    "    if result[1] > 0.05:\n",
    "        print(\"Series is not stationary\")\n",
    "        return False\n",
    "    else:\n",
    "        print(\"Series is stationary\")\n",
    "        return True\n",
    "\n",
    "test_result_1 = augmented_dickey_fuller_test(df, \"stringency_index\")\n",
    "test_result_2 = augmented_dickey_fuller_test(df, \" Gross Domestic Product (GDP)  Normalised\")\n",
    "\n",
    "if ((test_result_1 and test_result_2) == 0):\n",
    "    df_transformed = pd.DataFrame()\n",
    "    df_transformed[\"stringency_index\"] = np.diff(np.log(df[\"stringency_index\"]))\n",
    "    df_transformed[\" Gross Domestic Product (GDP)  Normalised\"] = np.diff(np.log(df[\" Gross Domestic Product (GDP)  Normalised\"]))\n",
    "    test_result_1 = augmented_dickey_fuller_test(df_transformed, \"stringency_index\")\n",
    "    test_result_2 = augmented_dickey_fuller_test(df_transformed, \" Gross Domestic Product (GDP)  Normalised\")\n",
    "    df = df_transformed\n",
    "else:\n",
    "    print(\"Both series are stationary...\")"
   ]
  },
  {
   "cell_type": "markdown",
   "id": "b10a8cd7",
   "metadata": {},
   "source": [
    "https://www.analyticsvidhya.com/blog/2021/08/vector-autoregressive-model-in-python/\n",
    "\n",
    "https://www.statology.org/negative-aic/\n",
    "\n",
    "https://www.statology.org/granger-causality-test-in-python/"
   ]
  },
  {
   "cell_type": "code",
   "execution_count": null,
   "id": "ee273387",
   "metadata": {},
   "outputs": [],
   "source": [
    "from statsmodels.tsa.api import VAR \n",
    "\n",
    "data = df[[\"stringency_index\", \" Gross Domestic Product (GDP)  Normalised\"]]\n",
    "for i in [1,2,3,4,5,6,7,8,9,10]:\n",
    "    model = VAR(data)\n",
    "    results = model.fit(i)\n",
    "    print('Order =', i)\n",
    "    print('AIC: ', results.aic)\n",
    "    print('BIC: ', results.bic)\n",
    "    print()"
   ]
  },
  {
   "cell_type": "code",
   "execution_count": null,
   "id": "ea20ad22",
   "metadata": {},
   "outputs": [],
   "source": [
    "import pandas as pd\n",
    "from statsmodels.tsa.vector_ar.vecm import select_order\n",
    "\n",
    "data = df[[\"stringency_index\", \" Gross Domestic Product (GDP)  Normalised\"]]\n",
    "max_lags = 10\n",
    "deterministic_terms = 'n'\n",
    "seasons = 0\n",
    "exog = None\n",
    "exog_coint = None\n",
    "result = select_order(data, max_lags, deterministic=deterministic_terms, seasons=seasons, exog=exog, exog_coint=exog_coint)\n",
    "selected_lag_order = result.selected_orders['aic']\n",
    "print(f\"Selected lag order based on AIC: {selected_lag_order}\")"
   ]
  },
  {
   "cell_type": "code",
   "execution_count": null,
   "id": "62abeff9",
   "metadata": {},
   "outputs": [],
   "source": [
    "# The Null hypothesis for grangercausalitytests is that the time series in the second column,\n",
    "# x2, does NOT Granger cause the time series in the first column, x1\n",
    "\n",
    "# https://www.statsmodels.org/dev/generated/statsmodels.tsa.stattools.grangercausalitytests.html#statsmodels.tsa.stattools.grangercausalitytests\n",
    "\n",
    "# GDP doesn't change the stringency\n",
    "granger_output = grangercausalitytests(df[[\"stringency_index\", \" Gross Domestic Product (GDP)  Normalised\"]], maxlag=[selected_lag_order])"
   ]
  },
  {
   "cell_type": "code",
   "execution_count": null,
   "id": "56f07bf5",
   "metadata": {},
   "outputs": [],
   "source": [
    "# stringency changes GDP\n",
    "granger_output = grangercausalitytests(df[[\" Gross Domestic Product (GDP)  Normalised\", \"stringency_index\"]], maxlag=[selected_lag_order])"
   ]
  }
 ],
 "metadata": {
  "kernelspec": {
   "display_name": "Python 3 (ipykernel)",
   "language": "python",
   "name": "python3"
  },
  "language_info": {
   "codemirror_mode": {
    "name": "ipython",
    "version": 3
   },
   "file_extension": ".py",
   "mimetype": "text/x-python",
   "name": "python",
   "nbconvert_exporter": "python",
   "pygments_lexer": "ipython3",
   "version": "3.8.10"
  }
 },
 "nbformat": 4,
 "nbformat_minor": 5
}
